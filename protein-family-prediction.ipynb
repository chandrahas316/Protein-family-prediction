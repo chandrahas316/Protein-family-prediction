{
 "cells": [
  {
   "cell_type": "code",
   "execution_count": 1,
   "id": "db69095e",
   "metadata": {
    "execution": {
     "iopub.execute_input": "2022-07-02T13:24:17.909237Z",
     "iopub.status.busy": "2022-07-02T13:24:17.908248Z",
     "iopub.status.idle": "2022-07-02T13:24:20.085379Z",
     "shell.execute_reply": "2022-07-02T13:24:20.084506Z"
    },
    "papermill": {
     "duration": 2.192226,
     "end_time": "2022-07-02T13:24:20.087993",
     "exception": false,
     "start_time": "2022-07-02T13:24:17.895767",
     "status": "completed"
    },
    "tags": []
   },
   "outputs": [],
   "source": [
    "import matplotlib.pyplot as plt\n",
    "import numpy as np\n",
    "import pandas as pd\n",
    "from sklearn.model_selection import train_test_split\n",
    "from sklearn.model_selection import GridSearchCV\n",
    "from sklearn.preprocessing import OrdinalEncoder\n",
    "from sklearn.model_selection import train_test_split\n",
    "from sklearn.model_selection import train_test_split\n",
    "from sklearn.neighbors import KNeighborsClassifier\n",
    "from sklearn.ensemble import RandomForestClassifier\n",
    "from sklearn.metrics import plot_confusion_matrix\n",
    "import warnings\n",
    "warnings.filterwarnings('ignore')\n",
    "plt.style.use('Solarize_Light2')\n"
   ]
  },
  {
   "cell_type": "code",
   "execution_count": 2,
   "id": "5090324d",
   "metadata": {
    "execution": {
     "iopub.execute_input": "2022-07-02T13:24:20.132485Z",
     "iopub.status.busy": "2022-07-02T13:24:20.131822Z",
     "iopub.status.idle": "2022-07-02T13:24:20.857563Z",
     "shell.execute_reply": "2022-07-02T13:24:20.856332Z"
    },
    "papermill": {
     "duration": 0.74003,
     "end_time": "2022-07-02T13:24:20.859927",
     "exception": false,
     "start_time": "2022-07-02T13:24:20.119897",
     "status": "completed"
    },
    "tags": []
   },
   "outputs": [
    {
     "data": {
      "text/html": [
       "<div>\n",
       "<style scoped>\n",
       "    .dataframe tbody tr th:only-of-type {\n",
       "        vertical-align: middle;\n",
       "    }\n",
       "\n",
       "    .dataframe tbody tr th {\n",
       "        vertical-align: top;\n",
       "    }\n",
       "\n",
       "    .dataframe thead th {\n",
       "        text-align: right;\n",
       "    }\n",
       "</style>\n",
       "<table border=\"1\" class=\"dataframe\">\n",
       "  <thead>\n",
       "    <tr style=\"text-align: right;\">\n",
       "      <th></th>\n",
       "      <th>structureId</th>\n",
       "      <th>classification</th>\n",
       "      <th>experimentalTechnique</th>\n",
       "      <th>macromoleculeType</th>\n",
       "      <th>residueCount</th>\n",
       "      <th>resolution</th>\n",
       "      <th>structureMolecularWeight</th>\n",
       "      <th>crystallizationMethod</th>\n",
       "      <th>crystallizationTempK</th>\n",
       "      <th>densityMatthews</th>\n",
       "      <th>densityPercentSol</th>\n",
       "      <th>pdbxDetails</th>\n",
       "      <th>phValue</th>\n",
       "      <th>publicationYear</th>\n",
       "    </tr>\n",
       "  </thead>\n",
       "  <tbody>\n",
       "    <tr>\n",
       "      <th>0</th>\n",
       "      <td>100D</td>\n",
       "      <td>DNA-RNA HYBRID</td>\n",
       "      <td>X-RAY DIFFRACTION</td>\n",
       "      <td>DNA/RNA Hybrid</td>\n",
       "      <td>20</td>\n",
       "      <td>1.90</td>\n",
       "      <td>6360.30</td>\n",
       "      <td>VAPOR DIFFUSION, HANGING DROP</td>\n",
       "      <td>NaN</td>\n",
       "      <td>1.78</td>\n",
       "      <td>30.89</td>\n",
       "      <td>pH 7.00, VAPOR DIFFUSION, HANGING DROP</td>\n",
       "      <td>7.0</td>\n",
       "      <td>1994.0</td>\n",
       "    </tr>\n",
       "    <tr>\n",
       "      <th>1</th>\n",
       "      <td>101D</td>\n",
       "      <td>DNA</td>\n",
       "      <td>X-RAY DIFFRACTION</td>\n",
       "      <td>DNA</td>\n",
       "      <td>24</td>\n",
       "      <td>2.25</td>\n",
       "      <td>7939.35</td>\n",
       "      <td>NaN</td>\n",
       "      <td>NaN</td>\n",
       "      <td>2.00</td>\n",
       "      <td>38.45</td>\n",
       "      <td>NaN</td>\n",
       "      <td>NaN</td>\n",
       "      <td>1995.0</td>\n",
       "    </tr>\n",
       "  </tbody>\n",
       "</table>\n",
       "</div>"
      ],
      "text/plain": [
       "  structureId  classification experimentalTechnique macromoleculeType  \\\n",
       "0        100D  DNA-RNA HYBRID     X-RAY DIFFRACTION    DNA/RNA Hybrid   \n",
       "1        101D             DNA     X-RAY DIFFRACTION               DNA   \n",
       "\n",
       "   residueCount  resolution  structureMolecularWeight  \\\n",
       "0            20        1.90                   6360.30   \n",
       "1            24        2.25                   7939.35   \n",
       "\n",
       "           crystallizationMethod  crystallizationTempK  densityMatthews  \\\n",
       "0  VAPOR DIFFUSION, HANGING DROP                   NaN             1.78   \n",
       "1                            NaN                   NaN             2.00   \n",
       "\n",
       "   densityPercentSol                             pdbxDetails  phValue  \\\n",
       "0              30.89  pH 7.00, VAPOR DIFFUSION, HANGING DROP      7.0   \n",
       "1              38.45                                     NaN      NaN   \n",
       "\n",
       "   publicationYear  \n",
       "0           1994.0  \n",
       "1           1995.0  "
      ]
     },
     "execution_count": 2,
     "metadata": {},
     "output_type": "execute_result"
    }
   ],
   "source": [
    "# Importing the first dataset\n",
    "df = pd.read_csv (\"pdb_data_no_dups.csv\")\n",
    "df.head(2)"
   ]
  },
  {
   "cell_type": "code",
   "execution_count": 3,
   "id": "c8695cc3",
   "metadata": {
    "execution": {
     "iopub.execute_input": "2022-07-02T13:24:20.904659Z",
     "iopub.status.busy": "2022-07-02T13:24:20.904266Z",
     "iopub.status.idle": "2022-07-02T13:24:23.499107Z",
     "shell.execute_reply": "2022-07-02T13:24:23.497894Z"
    },
    "papermill": {
     "duration": 2.609307,
     "end_time": "2022-07-02T13:24:23.501674",
     "exception": false,
     "start_time": "2022-07-02T13:24:20.892367",
     "status": "completed"
    },
    "tags": []
   },
   "outputs": [
    {
     "name": "stdout",
     "output_type": "stream",
     "text": [
      "<class 'pandas.core.frame.DataFrame'>\n",
      "RangeIndex: 141401 entries, 0 to 141400\n",
      "Data columns (total 14 columns):\n",
      " #   Column                    Non-Null Count   Dtype  \n",
      "---  ------                    --------------   -----  \n",
      " 0   structureId               141401 non-null  object \n",
      " 1   classification            141399 non-null  object \n",
      " 2   experimentalTechnique     141401 non-null  object \n",
      " 3   macromoleculeType         137636 non-null  object \n",
      " 4   residueCount              141401 non-null  int64  \n",
      " 5   resolution                128589 non-null  float64\n",
      " 6   structureMolecularWeight  141401 non-null  float64\n",
      " 7   crystallizationMethod     96242 non-null   object \n",
      " 8   crystallizationTempK      97039 non-null   float64\n",
      " 9   densityMatthews           124724 non-null  float64\n",
      " 10  densityPercentSol         124749 non-null  float64\n",
      " 11  pdbxDetails               118534 non-null  object \n",
      " 12  phValue                   105110 non-null  float64\n",
      " 13  publicationYear           117602 non-null  float64\n",
      "dtypes: float64(7), int64(1), object(6)\n",
      "memory usage: 15.1+ MB\n",
      "False\n",
      "Duplicate Rows Empty DataFrame\n",
      "Columns: [structureId, classification, experimentalTechnique, macromoleculeType, residueCount, resolution, structureMolecularWeight, crystallizationMethod, crystallizationTempK, densityMatthews, densityPercentSol, pdbxDetails, phValue, publicationYear]\n",
      "Index: []\n"
     ]
    },
    {
     "data": {
      "text/plain": [
       "structureId                     0\n",
       "classification                  2\n",
       "experimentalTechnique           0\n",
       "macromoleculeType            3765\n",
       "residueCount                    0\n",
       "resolution                  12812\n",
       "structureMolecularWeight        0\n",
       "crystallizationMethod       45159\n",
       "crystallizationTempK        44362\n",
       "densityMatthews             16677\n",
       "densityPercentSol           16652\n",
       "pdbxDetails                 22867\n",
       "phValue                     36291\n",
       "publicationYear             23799\n",
       "dtype: int64"
      ]
     },
     "execution_count": 3,
     "metadata": {},
     "output_type": "execute_result"
    },
    {
     "data": {
      "image/png": "[encoded data removed]",
      "text/plain": [
       "<Figure size 432x432 with 1 Axes>"
      ]
     },
     "metadata": {
      "needs_background": "light"
     },
     "output_type": "display_data"
    }
   ],
   "source": [
    "df.info()\n",
    "# calculate duplicates\n",
    "dups = df.duplicated()\n",
    "# report if there are any duplicates\n",
    "print(dups.any())\n",
    "# # list all duplicate rows\n",
    "\n",
    "print(\"Duplicate Rows\",df[dups])\n",
    "#Cardinality \n",
    "df.nunique() # To determine the maximum and minimum number of variations in each column of the dataset\n",
    "#Lets now check for null fields\n",
    "import seaborn as sns\n",
    "plt.figure(figsize=(6,6))\n",
    "sns.heatmap(df.isnull(),yticklabels=False,cbar=False,cmap='viridis')\n",
    "df.isnull().sum()\n"
   ]
  },
  {
   "cell_type": "code",
   "execution_count": 4,
   "id": "e4d901a2",
   "metadata": {
    "execution": {
     "iopub.execute_input": "2022-07-02T13:24:23.527264Z",
     "iopub.status.busy": "2022-07-02T13:24:23.526458Z",
     "iopub.status.idle": "2022-07-02T13:24:25.871000Z",
     "shell.execute_reply": "2022-07-02T13:24:25.869794Z"
    },
    "papermill": {
     "duration": 2.359884,
     "end_time": "2022-07-02T13:24:25.873725",
     "exception": false,
     "start_time": "2022-07-02T13:24:23.513841",
     "status": "completed"
    },
    "tags": []
   },
   "outputs": [
    {
     "data": {
      "text/html": [
       "<div>\n",
       "<style scoped>\n",
       "    .dataframe tbody tr th:only-of-type {\n",
       "        vertical-align: middle;\n",
       "    }\n",
       "\n",
       "    .dataframe tbody tr th {\n",
       "        vertical-align: top;\n",
       "    }\n",
       "\n",
       "    .dataframe thead th {\n",
       "        text-align: right;\n",
       "    }\n",
       "</style>\n",
       "<table border=\"1\" class=\"dataframe\">\n",
       "  <thead>\n",
       "    <tr style=\"text-align: right;\">\n",
       "      <th></th>\n",
       "      <th>structureId</th>\n",
       "      <th>chainId</th>\n",
       "      <th>sequence</th>\n",
       "      <th>residueCount</th>\n",
       "      <th>macromoleculeType</th>\n",
       "    </tr>\n",
       "  </thead>\n",
       "  <tbody>\n",
       "    <tr>\n",
       "      <th>0</th>\n",
       "      <td>100D</td>\n",
       "      <td>A</td>\n",
       "      <td>CCGGCGCCGG</td>\n",
       "      <td>20</td>\n",
       "      <td>DNA/RNA Hybrid</td>\n",
       "    </tr>\n",
       "    <tr>\n",
       "      <th>1</th>\n",
       "      <td>100D</td>\n",
       "      <td>B</td>\n",
       "      <td>CCGGCGCCGG</td>\n",
       "      <td>20</td>\n",
       "      <td>DNA/RNA Hybrid</td>\n",
       "    </tr>\n",
       "    <tr>\n",
       "      <th>2</th>\n",
       "      <td>101D</td>\n",
       "      <td>A</td>\n",
       "      <td>CGCGAATTCGCG</td>\n",
       "      <td>24</td>\n",
       "      <td>DNA</td>\n",
       "    </tr>\n",
       "    <tr>\n",
       "      <th>3</th>\n",
       "      <td>101D</td>\n",
       "      <td>B</td>\n",
       "      <td>CGCGAATTCGCG</td>\n",
       "      <td>24</td>\n",
       "      <td>DNA</td>\n",
       "    </tr>\n",
       "    <tr>\n",
       "      <th>4</th>\n",
       "      <td>101M</td>\n",
       "      <td>A</td>\n",
       "      <td>MVLSEGEWQLVLHVWAKVEADVAGHGQDILIRLFKSHPETLEKFDR...</td>\n",
       "      <td>154</td>\n",
       "      <td>Protein</td>\n",
       "    </tr>\n",
       "  </tbody>\n",
       "</table>\n",
       "</div>"
      ],
      "text/plain": [
       "  structureId chainId                                           sequence  \\\n",
       "0        100D       A                                         CCGGCGCCGG   \n",
       "1        100D       B                                         CCGGCGCCGG   \n",
       "2        101D       A                                       CGCGAATTCGCG   \n",
       "3        101D       B                                       CGCGAATTCGCG   \n",
       "4        101M       A  MVLSEGEWQLVLHVWAKVEADVAGHGQDILIRLFKSHPETLEKFDR...   \n",
       "\n",
       "   residueCount macromoleculeType  \n",
       "0            20    DNA/RNA Hybrid  \n",
       "1            20    DNA/RNA Hybrid  \n",
       "2            24               DNA  \n",
       "3            24               DNA  \n",
       "4           154           Protein  "
      ]
     },
     "execution_count": 4,
     "metadata": {},
     "output_type": "execute_result"
    }
   ],
   "source": [
    "# Importing the second dataset\n",
    "df1 = pd.read_csv (\"pdb_data_seq.csv\")\n",
    "df1.head()"
   ]
  },
  {
   "cell_type": "code",
   "execution_count": 5,
   "id": "20526778",
   "metadata": {
    "execution": {
     "iopub.execute_input": "2022-07-02T13:24:25.899902Z",
     "iopub.status.busy": "2022-07-02T13:24:25.899324Z",
     "iopub.status.idle": "2022-07-02T13:24:28.863593Z",
     "shell.execute_reply": "2022-07-02T13:24:28.862619Z"
    },
    "papermill": {
     "duration": 2.980299,
     "end_time": "2022-07-02T13:24:28.866088",
     "exception": false,
     "start_time": "2022-07-02T13:24:25.885789",
     "status": "completed"
    },
    "tags": []
   },
   "outputs": [
    {
     "name": "stdout",
     "output_type": "stream",
     "text": [
      "<class 'pandas.core.frame.DataFrame'>\n",
      "RangeIndex: 467304 entries, 0 to 467303\n",
      "Data columns (total 5 columns):\n",
      " #   Column             Non-Null Count   Dtype \n",
      "---  ------             --------------   ----- \n",
      " 0   structureId        467304 non-null  object\n",
      " 1   chainId            467294 non-null  object\n",
      " 2   sequence           467276 non-null  object\n",
      " 3   residueCount       467304 non-null  int64 \n",
      " 4   macromoleculeType  432487 non-null  object\n",
      "dtypes: int64(1), object(4)\n",
      "memory usage: 17.8+ MB\n",
      "False\n",
      " * Duplicate Rows * Empty DataFrame\n",
      "Columns: [structureId, chainId, sequence, residueCount, macromoleculeType]\n",
      "Index: []\n"
     ]
    },
    {
     "data": {
      "text/plain": [
       "structureId              0\n",
       "chainId                 10\n",
       "sequence                28\n",
       "residueCount             0\n",
       "macromoleculeType    34817\n",
       "dtype: int64"
      ]
     },
     "execution_count": 5,
     "metadata": {},
     "output_type": "execute_result"
    },
    {
     "data": {
      "image/png": "[encoded data removed]",
      "text/plain": [
       "<Figure size 432x288 with 1 Axes>"
      ]
     },
     "metadata": {
      "needs_background": "light"
     },
     "output_type": "display_data"
    }
   ],
   "source": [
    "df1.info()\n",
    "# calculate duplicates\n",
    "dups = df1.duplicated()\n",
    "# report if there are any duplicates\n",
    "print(dups.any())\n",
    "# list all duplicate rows\n",
    "\n",
    "print(\" * Duplicate Rows *\",df1[dups])\n",
    "#Cardinality \n",
    "df1.nunique() # To determine the maximum and minimum number of variations in each column of the dataset\n",
    "sns.heatmap(df1.isnull(),yticklabels=False,cbar=False,cmap='viridis')\n",
    "df1.isnull().sum()"
   ]
  },
  {
   "cell_type": "code",
   "execution_count": 6,
   "id": "96bd11b1",
   "metadata": {
    "execution": {
     "iopub.execute_input": "2022-07-02T13:24:28.919707Z",
     "iopub.status.busy": "2022-07-02T13:24:28.918595Z",
     "iopub.status.idle": "2022-07-02T13:24:29.327130Z",
     "shell.execute_reply": "2022-07-02T13:24:29.325837Z"
    },
    "papermill": {
     "duration": 0.426202,
     "end_time": "2022-07-02T13:24:29.329719",
     "exception": false,
     "start_time": "2022-07-02T13:24:28.903517",
     "status": "completed"
    },
    "tags": []
   },
   "outputs": [
    {
     "data": {
      "text/html": [
       "<div>\n",
       "<style scoped>\n",
       "    .dataframe tbody tr th:only-of-type {\n",
       "        vertical-align: middle;\n",
       "    }\n",
       "\n",
       "    .dataframe tbody tr th {\n",
       "        vertical-align: top;\n",
       "    }\n",
       "\n",
       "    .dataframe thead th {\n",
       "        text-align: right;\n",
       "    }\n",
       "</style>\n",
       "<table border=\"1\" class=\"dataframe\">\n",
       "  <thead>\n",
       "    <tr style=\"text-align: right;\">\n",
       "      <th></th>\n",
       "      <th>classification</th>\n",
       "      <th>experimentalTechnique</th>\n",
       "      <th>macromoleculeType_x</th>\n",
       "      <th>residueCount_x</th>\n",
       "      <th>resolution</th>\n",
       "      <th>structureMolecularWeight</th>\n",
       "      <th>crystallizationMethod</th>\n",
       "      <th>crystallizationTempK</th>\n",
       "      <th>densityMatthews</th>\n",
       "      <th>densityPercentSol</th>\n",
       "      <th>pdbxDetails</th>\n",
       "      <th>phValue</th>\n",
       "      <th>publicationYear</th>\n",
       "      <th>chainId</th>\n",
       "      <th>sequence</th>\n",
       "      <th>residueCount_y</th>\n",
       "      <th>macromoleculeType_y</th>\n",
       "    </tr>\n",
       "    <tr>\n",
       "      <th>structureId</th>\n",
       "      <th></th>\n",
       "      <th></th>\n",
       "      <th></th>\n",
       "      <th></th>\n",
       "      <th></th>\n",
       "      <th></th>\n",
       "      <th></th>\n",
       "      <th></th>\n",
       "      <th></th>\n",
       "      <th></th>\n",
       "      <th></th>\n",
       "      <th></th>\n",
       "      <th></th>\n",
       "      <th></th>\n",
       "      <th></th>\n",
       "      <th></th>\n",
       "      <th></th>\n",
       "    </tr>\n",
       "  </thead>\n",
       "  <tbody>\n",
       "    <tr>\n",
       "      <th>100D</th>\n",
       "      <td>DNA-RNA HYBRID</td>\n",
       "      <td>X-RAY DIFFRACTION</td>\n",
       "      <td>DNA/RNA Hybrid</td>\n",
       "      <td>20</td>\n",
       "      <td>1.90</td>\n",
       "      <td>6360.30</td>\n",
       "      <td>VAPOR DIFFUSION, HANGING DROP</td>\n",
       "      <td>NaN</td>\n",
       "      <td>1.78</td>\n",
       "      <td>30.89</td>\n",
       "      <td>pH 7.00, VAPOR DIFFUSION, HANGING DROP</td>\n",
       "      <td>7.0</td>\n",
       "      <td>1994.0</td>\n",
       "      <td>A</td>\n",
       "      <td>CCGGCGCCGG</td>\n",
       "      <td>20.0</td>\n",
       "      <td>DNA/RNA Hybrid</td>\n",
       "    </tr>\n",
       "    <tr>\n",
       "      <th>100D</th>\n",
       "      <td>DNA-RNA HYBRID</td>\n",
       "      <td>X-RAY DIFFRACTION</td>\n",
       "      <td>DNA/RNA Hybrid</td>\n",
       "      <td>20</td>\n",
       "      <td>1.90</td>\n",
       "      <td>6360.30</td>\n",
       "      <td>VAPOR DIFFUSION, HANGING DROP</td>\n",
       "      <td>NaN</td>\n",
       "      <td>1.78</td>\n",
       "      <td>30.89</td>\n",
       "      <td>pH 7.00, VAPOR DIFFUSION, HANGING DROP</td>\n",
       "      <td>7.0</td>\n",
       "      <td>1994.0</td>\n",
       "      <td>B</td>\n",
       "      <td>CCGGCGCCGG</td>\n",
       "      <td>20.0</td>\n",
       "      <td>DNA/RNA Hybrid</td>\n",
       "    </tr>\n",
       "    <tr>\n",
       "      <th>101D</th>\n",
       "      <td>DNA</td>\n",
       "      <td>X-RAY DIFFRACTION</td>\n",
       "      <td>DNA</td>\n",
       "      <td>24</td>\n",
       "      <td>2.25</td>\n",
       "      <td>7939.35</td>\n",
       "      <td>NaN</td>\n",
       "      <td>NaN</td>\n",
       "      <td>2.00</td>\n",
       "      <td>38.45</td>\n",
       "      <td>NaN</td>\n",
       "      <td>NaN</td>\n",
       "      <td>1995.0</td>\n",
       "      <td>A</td>\n",
       "      <td>CGCGAATTCGCG</td>\n",
       "      <td>24.0</td>\n",
       "      <td>DNA</td>\n",
       "    </tr>\n",
       "    <tr>\n",
       "      <th>101D</th>\n",
       "      <td>DNA</td>\n",
       "      <td>X-RAY DIFFRACTION</td>\n",
       "      <td>DNA</td>\n",
       "      <td>24</td>\n",
       "      <td>2.25</td>\n",
       "      <td>7939.35</td>\n",
       "      <td>NaN</td>\n",
       "      <td>NaN</td>\n",
       "      <td>2.00</td>\n",
       "      <td>38.45</td>\n",
       "      <td>NaN</td>\n",
       "      <td>NaN</td>\n",
       "      <td>1995.0</td>\n",
       "      <td>B</td>\n",
       "      <td>CGCGAATTCGCG</td>\n",
       "      <td>24.0</td>\n",
       "      <td>DNA</td>\n",
       "    </tr>\n",
       "    <tr>\n",
       "      <th>101M</th>\n",
       "      <td>OXYGEN TRANSPORT</td>\n",
       "      <td>X-RAY DIFFRACTION</td>\n",
       "      <td>Protein</td>\n",
       "      <td>154</td>\n",
       "      <td>2.07</td>\n",
       "      <td>18112.80</td>\n",
       "      <td>NaN</td>\n",
       "      <td>NaN</td>\n",
       "      <td>3.09</td>\n",
       "      <td>60.20</td>\n",
       "      <td>3.0 M AMMONIUM SULFATE, 20 MM TRIS, 1MM EDTA, ...</td>\n",
       "      <td>9.0</td>\n",
       "      <td>1999.0</td>\n",
       "      <td>A</td>\n",
       "      <td>MVLSEGEWQLVLHVWAKVEADVAGHGQDILIRLFKSHPETLEKFDR...</td>\n",
       "      <td>154.0</td>\n",
       "      <td>Protein</td>\n",
       "    </tr>\n",
       "  </tbody>\n",
       "</table>\n",
       "</div>"
      ],
      "text/plain": [
       "               classification experimentalTechnique macromoleculeType_x  \\\n",
       "structureId                                                               \n",
       "100D           DNA-RNA HYBRID     X-RAY DIFFRACTION      DNA/RNA Hybrid   \n",
       "100D           DNA-RNA HYBRID     X-RAY DIFFRACTION      DNA/RNA Hybrid   \n",
       "101D                      DNA     X-RAY DIFFRACTION                 DNA   \n",
       "101D                      DNA     X-RAY DIFFRACTION                 DNA   \n",
       "101M         OXYGEN TRANSPORT     X-RAY DIFFRACTION             Protein   \n",
       "\n",
       "             residueCount_x  resolution  structureMolecularWeight  \\\n",
       "structureId                                                         \n",
       "100D                     20        1.90                   6360.30   \n",
       "100D                     20        1.90                   6360.30   \n",
       "101D                     24        2.25                   7939.35   \n",
       "101D                     24        2.25                   7939.35   \n",
       "101M                    154        2.07                  18112.80   \n",
       "\n",
       "                     crystallizationMethod  crystallizationTempK  \\\n",
       "structureId                                                        \n",
       "100D         VAPOR DIFFUSION, HANGING DROP                   NaN   \n",
       "100D         VAPOR DIFFUSION, HANGING DROP                   NaN   \n",
       "101D                                   NaN                   NaN   \n",
       "101D                                   NaN                   NaN   \n",
       "101M                                   NaN                   NaN   \n",
       "\n",
       "             densityMatthews  densityPercentSol  \\\n",
       "structureId                                       \n",
       "100D                    1.78              30.89   \n",
       "100D                    1.78              30.89   \n",
       "101D                    2.00              38.45   \n",
       "101D                    2.00              38.45   \n",
       "101M                    3.09              60.20   \n",
       "\n",
       "                                                   pdbxDetails  phValue  \\\n",
       "structureId                                                               \n",
       "100D                    pH 7.00, VAPOR DIFFUSION, HANGING DROP      7.0   \n",
       "100D                    pH 7.00, VAPOR DIFFUSION, HANGING DROP      7.0   \n",
       "101D                                                       NaN      NaN   \n",
       "101D                                                       NaN      NaN   \n",
       "101M         3.0 M AMMONIUM SULFATE, 20 MM TRIS, 1MM EDTA, ...      9.0   \n",
       "\n",
       "             publicationYear chainId  \\\n",
       "structureId                            \n",
       "100D                  1994.0       A   \n",
       "100D                  1994.0       B   \n",
       "101D                  1995.0       A   \n",
       "101D                  1995.0       B   \n",
       "101M                  1999.0       A   \n",
       "\n",
       "                                                      sequence  \\\n",
       "structureId                                                      \n",
       "100D                                                CCGGCGCCGG   \n",
       "100D                                                CCGGCGCCGG   \n",
       "101D                                              CGCGAATTCGCG   \n",
       "101D                                              CGCGAATTCGCG   \n",
       "101M         MVLSEGEWQLVLHVWAKVEADVAGHGQDILIRLFKSHPETLEKFDR...   \n",
       "\n",
       "             residueCount_y macromoleculeType_y  \n",
       "structureId                                      \n",
       "100D                   20.0      DNA/RNA Hybrid  \n",
       "100D                   20.0      DNA/RNA Hybrid  \n",
       "101D                   24.0                 DNA  \n",
       "101D                   24.0                 DNA  \n",
       "101M                  154.0             Protein  "
      ]
     },
     "execution_count": 6,
     "metadata": {},
     "output_type": "execute_result"
    }
   ],
   "source": [
    "# Merging the two datasets\n",
    "df2 = df.set_index('structureId').merge(df1.set_index('structureId'),on='structureId',how='left')\n",
    "df2.head()"
   ]
  },
  {
   "cell_type": "code",
   "execution_count": 7,
   "id": "e1f72f60",
   "metadata": {
    "execution": {
     "iopub.execute_input": "2022-07-02T13:24:29.357389Z",
     "iopub.status.busy": "2022-07-02T13:24:29.357007Z",
     "iopub.status.idle": "2022-07-02T13:24:32.955917Z",
     "shell.execute_reply": "2022-07-02T13:24:32.954546Z"
    },
    "papermill": {
     "duration": 3.616034,
     "end_time": "2022-07-02T13:24:32.958626",
     "exception": false,
     "start_time": "2022-07-02T13:24:29.342592",
     "status": "completed"
    },
    "tags": []
   },
   "outputs": [],
   "source": [
    "# Clearing the classification column.\n",
    "df2[\"classification\"]=df2[\"classification\"].str.replace('\\n','')\n",
    "df2[\"classification\"]=df2[\"classification\"].str.replace('\\r','')\n",
    "df2[\"classification\"]=df2[\"classification\"].str.replace('-','')\n",
    "df2[\"classification\"]=df2[\"classification\"].str.replace(',','')\n",
    "df2[\"classification\"]=df2[\"classification\"].str.replace('/','')\n",
    "df2[\"classification\"]=df2[\"classification\"].str.replace(' ','')\n",
    "# Clearing the experimentalTechnique column.\n",
    "df2[\"experimentalTechnique\"]=df2[\"experimentalTechnique\"].str.replace('\\n','')\n",
    "df2[\"experimentalTechnique\"]=df2[\"experimentalTechnique\"].str.replace('\\r','')\n",
    "df2[\"experimentalTechnique\"]=df2[\"experimentalTechnique\"].str.replace('-','')\n",
    "df2[\"experimentalTechnique\"]=df2[\"experimentalTechnique\"].str.replace(',','')\n",
    "df2[\"experimentalTechnique\"]=df2[\"experimentalTechnique\"].str.replace('/','')\n",
    "df2[\"experimentalTechnique\"]=df2[\"experimentalTechnique\"].str.replace(' ','')"
   ]
  },
  {
   "cell_type": "code",
   "execution_count": 8,
   "id": "b628bde8",
   "metadata": {
    "execution": {
     "iopub.execute_input": "2022-07-02T13:24:32.986950Z",
     "iopub.status.busy": "2022-07-02T13:24:32.986544Z",
     "iopub.status.idle": "2022-07-02T13:24:33.379431Z",
     "shell.execute_reply": "2022-07-02T13:24:33.378201Z"
    },
    "papermill": {
     "duration": 0.409529,
     "end_time": "2022-07-02T13:24:33.382061",
     "exception": false,
     "start_time": "2022-07-02T13:24:32.972532",
     "status": "completed"
    },
    "tags": []
   },
   "outputs": [
    {
     "data": {
      "text/html": [
       "<div>\n",
       "<style scoped>\n",
       "    .dataframe tbody tr th:only-of-type {\n",
       "        vertical-align: middle;\n",
       "    }\n",
       "\n",
       "    .dataframe tbody tr th {\n",
       "        vertical-align: top;\n",
       "    }\n",
       "\n",
       "    .dataframe thead th {\n",
       "        text-align: right;\n",
       "    }\n",
       "</style>\n",
       "<table border=\"1\" class=\"dataframe\">\n",
       "  <thead>\n",
       "    <tr style=\"text-align: right;\">\n",
       "      <th></th>\n",
       "      <th>residueCount_x</th>\n",
       "      <th>resolution</th>\n",
       "      <th>structureMolecularWeight</th>\n",
       "      <th>crystallizationTempK</th>\n",
       "      <th>densityMatthews</th>\n",
       "      <th>densityPercentSol</th>\n",
       "      <th>phValue</th>\n",
       "      <th>publicationYear</th>\n",
       "      <th>residueCount_y</th>\n",
       "    </tr>\n",
       "  </thead>\n",
       "  <tbody>\n",
       "    <tr>\n",
       "      <th>count</th>\n",
       "      <td>471811.000000</td>\n",
       "      <td>449845.000000</td>\n",
       "      <td>4.718110e+05</td>\n",
       "      <td>317806.000000</td>\n",
       "      <td>390156.000000</td>\n",
       "      <td>390278.000000</td>\n",
       "      <td>340901.000000</td>\n",
       "      <td>414031.000000</td>\n",
       "      <td>471149.00000</td>\n",
       "    </tr>\n",
       "    <tr>\n",
       "      <th>mean</th>\n",
       "      <td>6249.411993</td>\n",
       "      <td>3.020053</td>\n",
       "      <td>9.249303e+05</td>\n",
       "      <td>290.882456</td>\n",
       "      <td>2.850614</td>\n",
       "      <td>54.196381</td>\n",
       "      <td>6.830511</td>\n",
       "      <td>2010.458932</td>\n",
       "      <td>6257.93182</td>\n",
       "    </tr>\n",
       "    <tr>\n",
       "      <th>std</th>\n",
       "      <td>23602.912835</td>\n",
       "      <td>3.090108</td>\n",
       "      <td>3.016951e+06</td>\n",
       "      <td>8.903673</td>\n",
       "      <td>0.824283</td>\n",
       "      <td>10.269266</td>\n",
       "      <td>2.461170</td>\n",
       "      <td>7.035084</td>\n",
       "      <td>23618.38381</td>\n",
       "    </tr>\n",
       "    <tr>\n",
       "      <th>min</th>\n",
       "      <td>0.000000</td>\n",
       "      <td>0.480000</td>\n",
       "      <td>3.143800e+02</td>\n",
       "      <td>4.000000</td>\n",
       "      <td>0.000000</td>\n",
       "      <td>0.000000</td>\n",
       "      <td>0.000000</td>\n",
       "      <td>201.000000</td>\n",
       "      <td>0.00000</td>\n",
       "    </tr>\n",
       "    <tr>\n",
       "      <th>25%</th>\n",
       "      <td>456.000000</td>\n",
       "      <td>2.000000</td>\n",
       "      <td>5.261474e+04</td>\n",
       "      <td>291.000000</td>\n",
       "      <td>2.320000</td>\n",
       "      <td>46.890000</td>\n",
       "      <td>6.100000</td>\n",
       "      <td>2007.000000</td>\n",
       "      <td>456.00000</td>\n",
       "    </tr>\n",
       "    <tr>\n",
       "      <th>50%</th>\n",
       "      <td>1140.000000</td>\n",
       "      <td>2.500000</td>\n",
       "      <td>1.308344e+05</td>\n",
       "      <td>293.000000</td>\n",
       "      <td>2.670000</td>\n",
       "      <td>53.950000</td>\n",
       "      <td>7.000000</td>\n",
       "      <td>2012.000000</td>\n",
       "      <td>1140.00000</td>\n",
       "    </tr>\n",
       "    <tr>\n",
       "      <th>75%</th>\n",
       "      <td>4518.000000</td>\n",
       "      <td>3.100000</td>\n",
       "      <td>6.331348e+05</td>\n",
       "      <td>295.000000</td>\n",
       "      <td>3.190000</td>\n",
       "      <td>61.360000</td>\n",
       "      <td>7.500000</td>\n",
       "      <td>2015.000000</td>\n",
       "      <td>4528.00000</td>\n",
       "    </tr>\n",
       "    <tr>\n",
       "      <th>max</th>\n",
       "      <td>313236.000000</td>\n",
       "      <td>70.000000</td>\n",
       "      <td>9.773054e+07</td>\n",
       "      <td>398.000000</td>\n",
       "      <td>99.000000</td>\n",
       "      <td>92.000000</td>\n",
       "      <td>724.000000</td>\n",
       "      <td>2018.000000</td>\n",
       "      <td>313236.00000</td>\n",
       "    </tr>\n",
       "  </tbody>\n",
       "</table>\n",
       "</div>"
      ],
      "text/plain": [
       "       residueCount_x     resolution  structureMolecularWeight  \\\n",
       "count   471811.000000  449845.000000              4.718110e+05   \n",
       "mean      6249.411993       3.020053              9.249303e+05   \n",
       "std      23602.912835       3.090108              3.016951e+06   \n",
       "min          0.000000       0.480000              3.143800e+02   \n",
       "25%        456.000000       2.000000              5.261474e+04   \n",
       "50%       1140.000000       2.500000              1.308344e+05   \n",
       "75%       4518.000000       3.100000              6.331348e+05   \n",
       "max     313236.000000      70.000000              9.773054e+07   \n",
       "\n",
       "       crystallizationTempK  densityMatthews  densityPercentSol  \\\n",
       "count         317806.000000    390156.000000      390278.000000   \n",
       "mean             290.882456         2.850614          54.196381   \n",
       "std                8.903673         0.824283          10.269266   \n",
       "min                4.000000         0.000000           0.000000   \n",
       "25%              291.000000         2.320000          46.890000   \n",
       "50%              293.000000         2.670000          53.950000   \n",
       "75%              295.000000         3.190000          61.360000   \n",
       "max              398.000000        99.000000          92.000000   \n",
       "\n",
       "             phValue  publicationYear  residueCount_y  \n",
       "count  340901.000000    414031.000000    471149.00000  \n",
       "mean        6.830511      2010.458932      6257.93182  \n",
       "std         2.461170         7.035084     23618.38381  \n",
       "min         0.000000       201.000000         0.00000  \n",
       "25%         6.100000      2007.000000       456.00000  \n",
       "50%         7.000000      2012.000000      1140.00000  \n",
       "75%         7.500000      2015.000000      4528.00000  \n",
       "max       724.000000      2018.000000    313236.00000  "
      ]
     },
     "execution_count": 8,
     "metadata": {},
     "output_type": "execute_result"
    }
   ],
   "source": [
    "df2.describe()"
   ]
  },
  {
   "cell_type": "code",
   "execution_count": 9,
   "id": "b61b7aa8",
   "metadata": {
    "execution": {
     "iopub.execute_input": "2022-07-02T13:24:33.411577Z",
     "iopub.status.busy": "2022-07-02T13:24:33.410528Z",
     "iopub.status.idle": "2022-07-02T13:24:33.518107Z",
     "shell.execute_reply": "2022-07-02T13:24:33.516518Z"
    },
    "papermill": {
     "duration": 0.124399,
     "end_time": "2022-07-02T13:24:33.520675",
     "exception": false,
     "start_time": "2022-07-02T13:24:33.396276",
     "status": "completed"
    },
    "tags": []
   },
   "outputs": [
    {
     "name": "stdout",
     "output_type": "stream",
     "text": [
      " The shape of the protein dataset is: (471811, 17)\n",
      "structureId                                            9XIM\n",
      "experimentalTechnique       X-RAY DIFFRACTION, SOLUTION NMR\n",
      "residueCount                                         313236\n",
      "resolution                                             70.0\n",
      "structureMolecularWeight                         97730536.0\n",
      "crystallizationTempK                                  398.0\n",
      "densityMatthews                                        99.0\n",
      "densityPercentSol                                      92.0\n",
      "phValue                                               724.0\n",
      "publicationYear                                      2018.0\n",
      "dtype: object\n"
     ]
    }
   ],
   "source": [
    "print(\" The shape of the protein dataset is: \" +str(df2.shape))\n",
    "# So we have > 400,000 observations (rows) and 17 features (columns)\n",
    "print(df.max())"
   ]
  },
  {
   "cell_type": "code",
   "execution_count": 10,
   "id": "9801056a",
   "metadata": {},
   "outputs": [
    {
     "data": {
      "text/plain": [
       "classification                   4\n",
       "experimentalTechnique            0\n",
       "macromoleculeType_x          36432\n",
       "residueCount_x                   0\n",
       "resolution                   21966\n",
       "structureMolecularWeight         0\n",
       "crystallizationMethod       156948\n",
       "crystallizationTempK        154005\n",
       "densityMatthews              81655\n",
       "densityPercentSol            81533\n",
       "pdbxDetails                  86147\n",
       "phValue                     130910\n",
       "publicationYear              57780\n",
       "chainId                        672\n",
       "sequence                       690\n",
       "residueCount_y                 662\n",
       "macromoleculeType_y          36432\n",
       "dtype: int64"
      ]
     },
     "execution_count": 10,
     "metadata": {},
     "output_type": "execute_result"
    }
   ],
   "source": [
    "df2.isnull().sum()"
   ]
  },
  {
   "cell_type": "code",
   "execution_count": 11,
   "id": "ac3a3666",
   "metadata": {
    "execution": {
     "iopub.execute_input": "2022-07-02T13:24:33.549957Z",
     "iopub.status.busy": "2022-07-02T13:24:33.549588Z",
     "iopub.status.idle": "2022-07-02T13:24:34.312011Z",
     "shell.execute_reply": "2022-07-02T13:24:34.310822Z"
    },
    "papermill": {
     "duration": 0.779697,
     "end_time": "2022-07-02T13:24:34.314255",
     "exception": false,
     "start_time": "2022-07-02T13:24:33.534558",
     "status": "completed"
    },
    "tags": []
   },
   "outputs": [
    {
     "name": "stdout",
     "output_type": "stream",
     "text": [
      "classification                   4\n",
      "experimentalTechnique            0\n",
      "macromoleculeType_x          36432\n",
      "residueCount_x                   0\n",
      "resolution                   21966\n",
      "structureMolecularWeight         0\n",
      "crystallizationMethod       156948\n",
      "crystallizationTempK        154005\n",
      "densityMatthews              81655\n",
      "densityPercentSol            81533\n",
      "pdbxDetails                  86147\n",
      "phValue                     130910\n",
      "publicationYear              57780\n",
      "chainId                        672\n",
      "sequence                       690\n",
      "residueCount_y                 662\n",
      "macromoleculeType_y          36432\n",
      "dtype: int64\n",
      "classification              0\n",
      "experimentalTechnique       0\n",
      "residueCount_x              0\n",
      "resolution                  0\n",
      "structureMolecularWeight    0\n",
      "crystallizationMethod       0\n",
      "crystallizationTempK        0\n",
      "densityMatthews             0\n",
      "densityPercentSol           0\n",
      "pdbxDetails                 0\n",
      "phValue                     0\n",
      "sequence                    0\n",
      "residueCount_y              0\n",
      "dtype: int64\n"
     ]
    },
    {
     "data": {
      "text/html": [
       "<div>\n",
       "<style scoped>\n",
       "    .dataframe tbody tr th:only-of-type {\n",
       "        vertical-align: middle;\n",
       "    }\n",
       "\n",
       "    .dataframe tbody tr th {\n",
       "        vertical-align: top;\n",
       "    }\n",
       "\n",
       "    .dataframe thead th {\n",
       "        text-align: right;\n",
       "    }\n",
       "</style>\n",
       "<table border=\"1\" class=\"dataframe\">\n",
       "  <thead>\n",
       "    <tr style=\"text-align: right;\">\n",
       "      <th></th>\n",
       "      <th>classification</th>\n",
       "      <th>experimentalTechnique</th>\n",
       "      <th>residueCount_x</th>\n",
       "      <th>resolution</th>\n",
       "      <th>structureMolecularWeight</th>\n",
       "      <th>crystallizationMethod</th>\n",
       "      <th>crystallizationTempK</th>\n",
       "      <th>densityMatthews</th>\n",
       "      <th>densityPercentSol</th>\n",
       "      <th>pdbxDetails</th>\n",
       "      <th>phValue</th>\n",
       "      <th>sequence</th>\n",
       "      <th>residueCount_y</th>\n",
       "    </tr>\n",
       "    <tr>\n",
       "      <th>structureId</th>\n",
       "      <th></th>\n",
       "      <th></th>\n",
       "      <th></th>\n",
       "      <th></th>\n",
       "      <th></th>\n",
       "      <th></th>\n",
       "      <th></th>\n",
       "      <th></th>\n",
       "      <th></th>\n",
       "      <th></th>\n",
       "      <th></th>\n",
       "      <th></th>\n",
       "      <th></th>\n",
       "    </tr>\n",
       "  </thead>\n",
       "  <tbody>\n",
       "    <tr>\n",
       "      <th>102D</th>\n",
       "      <td>DNA</td>\n",
       "      <td>XRAYDIFFRACTION</td>\n",
       "      <td>24</td>\n",
       "      <td>2.2</td>\n",
       "      <td>7637.17</td>\n",
       "      <td>VAPOR DIFFUSION, SITTING DROP</td>\n",
       "      <td>277.0</td>\n",
       "      <td>2.28</td>\n",
       "      <td>46.06</td>\n",
       "      <td>pH 7.00, VAPOR DIFFUSION, SITTING DROP, temper...</td>\n",
       "      <td>7.0</td>\n",
       "      <td>CGCAAATTTGCG</td>\n",
       "      <td>24.0</td>\n",
       "    </tr>\n",
       "    <tr>\n",
       "      <th>102D</th>\n",
       "      <td>DNA</td>\n",
       "      <td>XRAYDIFFRACTION</td>\n",
       "      <td>24</td>\n",
       "      <td>2.2</td>\n",
       "      <td>7637.17</td>\n",
       "      <td>VAPOR DIFFUSION, SITTING DROP</td>\n",
       "      <td>277.0</td>\n",
       "      <td>2.28</td>\n",
       "      <td>46.06</td>\n",
       "      <td>pH 7.00, VAPOR DIFFUSION, SITTING DROP, temper...</td>\n",
       "      <td>7.0</td>\n",
       "      <td>CGCAAATTTGCG</td>\n",
       "      <td>24.0</td>\n",
       "    </tr>\n",
       "  </tbody>\n",
       "</table>\n",
       "</div>"
      ],
      "text/plain": [
       "            classification experimentalTechnique  residueCount_x  resolution  \\\n",
       "structureId                                                                    \n",
       "102D                   DNA       XRAYDIFFRACTION              24         2.2   \n",
       "102D                   DNA       XRAYDIFFRACTION              24         2.2   \n",
       "\n",
       "             structureMolecularWeight          crystallizationMethod  \\\n",
       "structureId                                                            \n",
       "102D                          7637.17  VAPOR DIFFUSION, SITTING DROP   \n",
       "102D                          7637.17  VAPOR DIFFUSION, SITTING DROP   \n",
       "\n",
       "             crystallizationTempK  densityMatthews  densityPercentSol  \\\n",
       "structureId                                                             \n",
       "102D                        277.0             2.28              46.06   \n",
       "102D                        277.0             2.28              46.06   \n",
       "\n",
       "                                                   pdbxDetails  phValue  \\\n",
       "structureId                                                               \n",
       "102D         pH 7.00, VAPOR DIFFUSION, SITTING DROP, temper...      7.0   \n",
       "102D         pH 7.00, VAPOR DIFFUSION, SITTING DROP, temper...      7.0   \n",
       "\n",
       "                 sequence  residueCount_y  \n",
       "structureId                                \n",
       "102D         CGCAAATTTGCG            24.0  \n",
       "102D         CGCAAATTTGCG            24.0  "
      ]
     },
     "execution_count": 11,
     "metadata": {},
     "output_type": "execute_result"
    }
   ],
   "source": [
    "# Data Cleaning¶\n",
    "# Drop unwanted columns(not relevant for our model)\n",
    "df3 = df2.drop(['publicationYear', 'chainId','macromoleculeType_x', 'macromoleculeType_y'], axis = 1)\n",
    "df3.shape\n",
    "# Data Cleaning - Summing NA values per column\n",
    "print(df2.isnull().sum())\n",
    "# Drop na observations\n",
    "df_new=df3.dropna(how='any')\n",
    "print(df_new.isnull().sum())\n",
    "df_new.head(2)"
   ]
  },
  {
   "cell_type": "code",
   "execution_count": 12,
   "id": "6f90cb30",
   "metadata": {},
   "outputs": [
    {
     "data": {
      "image/png": "[encoded data removed]",
      "text/plain": [
       "<Figure size 720x504 with 2 Axes>"
      ]
     },
     "metadata": {
      "needs_background": "light"
     },
     "output_type": "display_data"
    }
   ],
   "source": [
    "#correlation matrix\n",
    "corrmat = df3.corr()\n",
    "f, ax = plt.subplots(figsize=(10, 7))\n",
    "sns.heatmap(corrmat, annot=True, linewidths=.5, fmt= '.1f',ax=ax);"
   ]
  },
  {
   "cell_type": "code",
   "execution_count": 13,
   "metadata": {},
   "outputs": [
    {
     "data": {
      "text/plain": [
       "(264224, 10)"
      ]
     },
     "execution_count": 13,
     "metadata": {},
     "output_type": "execute_result"
    }
   ],
   "source": [
    "# Removing correlated features: residueCount and densityMatthews\n",
    "df4 = df_new.drop(['residueCount_x', 'residueCount_y','densityMatthews'],axis=1)\n",
    "df4.shape"
   ]
  },
  {
   "cell_type": "markdown",
   "id": "0a00d02b",
   "metadata": {},
   "source": [
    "# EDA"
   ]
  },
  {
   "cell_type": "code",
   "execution_count": 14,
   "id": "abc12d7b",
   "metadata": {
    "execution": {
     "iopub.execute_input": "2022-07-02T13:25:33.628360Z",
     "iopub.status.busy": "2022-07-02T13:25:33.627829Z",
     "iopub.status.idle": "2022-07-02T13:25:34.372370Z",
     "shell.execute_reply": "2022-07-02T13:25:34.371116Z"
    },
    "papermill": {
     "duration": 0.764883,
     "end_time": "2022-07-02T13:25:34.375194",
     "exception": false,
     "start_time": "2022-07-02T13:25:33.610311",
     "status": "completed"
    },
    "tags": []
   },
   "outputs": [
    {
     "data": {
      "text/plain": [
       "<Axes: xlabel='phValue', ylabel='count'>"
      ]
     },
     "execution_count": 14,
     "metadata": {},
     "output_type": "execute_result"
    },
    {
     "data": {
      "image/png": "[encoded data removed]",
      "text/plain": [
       "<Figure size 576x576 with 1 Axes>"
      ]
     },
     "metadata": {
      "needs_background": "light"
     },
     "output_type": "display_data"
    }
   ],
   "source": [
    "# Verifying the phValue\n",
    "df4.phValue = df4.phValue.round()\n",
    "plt.figure(figsize=(8,8))\n",
    "sns.countplot(data=df4,x = df4['phValue'],palette='plasma')"
   ]
  },
  {
   "cell_type": "markdown",
   "id": "46a31f8a",
   "metadata": {
    "papermill": {
     "duration": 0.015553,
     "end_time": "2022-07-02T13:25:34.407160",
     "exception": false,
     "start_time": "2022-07-02T13:25:34.391607",
     "status": "completed"
    },
    "tags": []
   },
   "source": [
    "> Significance of pH\n",
    "\n",
    " The pH range where proteins work best is neutral (pH 7) plus one and minus one."
   ]
  },
  {
   "cell_type": "code",
   "execution_count": 15,
   "id": "ce404b94",
   "metadata": {
    "execution": {
     "iopub.execute_input": "2022-07-02T13:25:35.426258Z",
     "iopub.status.busy": "2022-07-02T13:25:35.425572Z",
     "iopub.status.idle": "2022-07-02T13:25:35.666794Z",
     "shell.execute_reply": "2022-07-02T13:25:35.665533Z"
    },
    "papermill": {
     "duration": 0.262338,
     "end_time": "2022-07-02T13:25:35.669358",
     "exception": false,
     "start_time": "2022-07-02T13:25:35.407020",
     "status": "completed"
    },
    "tags": []
   },
   "outputs": [
    {
     "data": {
      "text/plain": [
       "<Axes: >"
      ]
     },
     "execution_count": 15,
     "metadata": {},
     "output_type": "execute_result"
    },
    {
     "data": {
      "image/png": "[encoded data removed]",
      "text/plain": [
       "<Figure size 576x432 with 1 Axes>"
      ]
     },
     "metadata": {
      "needs_background": "light"
     },
     "output_type": "display_data"
    }
   ],
   "source": [
    "plt.figure(figsize=(8,6))\n",
    "df4['classification'].value_counts()[:4].plot(kind='bar')"
   ]
  },
  {
   "cell_type": "code",
   "execution_count": 16,
   "id": "1fcba939",
   "metadata": {
    "execution": {
     "iopub.execute_input": "2022-07-02T13:25:35.706506Z",
     "iopub.status.busy": "2022-07-02T13:25:35.706109Z",
     "iopub.status.idle": "2022-07-02T13:25:35.829852Z",
     "shell.execute_reply": "2022-07-02T13:25:35.828127Z"
    },
    "papermill": {
     "duration": 0.146724,
     "end_time": "2022-07-02T13:25:35.833824",
     "exception": false,
     "start_time": "2022-07-02T13:25:35.687100",
     "status": "completed"
    },
    "tags": []
   },
   "outputs": [
    {
     "name": "stdout",
     "output_type": "stream",
     "text": [
      "HYDROLASE                         29559\n",
      "TRANSFERASE                       24236\n",
      "RIBOSOME                          23858\n",
      "OXIDOREDUCTASE                    22287\n",
      "IMMUNESYSTEM                      10876\n",
      "                                  ...  \n",
      "LIGASESUBSTRATE                       1\n",
      "TranscriptionHormone                  1\n",
      "LIGASEReactionintermediate            1\n",
      "BloodCoagulationOXIDOREDUCTASE        1\n",
      "lipidtransportactivator               1\n",
      "Name: classification, Length: 2434, dtype: int64\n"
     ]
    },
    {
     "data": {
      "text/plain": [
       "HYDROLASE         29559\n",
       "TRANSFERASE       24236\n",
       "RIBOSOME          23858\n",
       "OXIDOREDUCTASE    22287\n",
       "Name: classification, dtype: int64"
      ]
     },
     "execution_count": 16,
     "metadata": {},
     "output_type": "execute_result"
    }
   ],
   "source": [
    "# Selecting families with count > 15000\n",
    "counts = df4.classification.value_counts()\n",
    "print(counts)\n",
    "class_data = np.asarray(counts[(counts > 15000)].index)\n",
    "class_data = df4[df4.classification.isin(class_data)]\n",
    "# Checking new dataframe for top protein family names\n",
    "class_data.classification.value_counts()"
   ]
  },
  {
   "cell_type": "code",
   "execution_count": 17,
   "id": "90ad7501",
   "metadata": {
    "execution": {
     "iopub.execute_input": "2022-07-02T13:25:35.946158Z",
     "iopub.status.busy": "2022-07-02T13:25:35.945394Z",
     "iopub.status.idle": "2022-07-02T13:25:36.419945Z",
     "shell.execute_reply": "2022-07-02T13:25:36.418521Z"
    },
    "papermill": {
     "duration": 0.503131,
     "end_time": "2022-07-02T13:25:36.422627",
     "exception": false,
     "start_time": "2022-07-02T13:25:35.919496",
     "status": "completed"
    },
    "tags": []
   },
   "outputs": [
    {
     "data": {
      "text/html": [
       "<div>\n",
       "<style scoped>\n",
       "    .dataframe tbody tr th:only-of-type {\n",
       "        vertical-align: middle;\n",
       "    }\n",
       "\n",
       "    .dataframe tbody tr th {\n",
       "        vertical-align: top;\n",
       "    }\n",
       "\n",
       "    .dataframe thead th {\n",
       "        text-align: right;\n",
       "    }\n",
       "</style>\n",
       "<table border=\"1\" class=\"dataframe\">\n",
       "  <thead>\n",
       "    <tr style=\"text-align: right;\">\n",
       "      <th></th>\n",
       "      <th>classification</th>\n",
       "      <th>experimentalTechnique</th>\n",
       "      <th>resolution</th>\n",
       "      <th>structureMolecularWeight</th>\n",
       "      <th>crystallizationMethod</th>\n",
       "      <th>crystallizationTempK</th>\n",
       "      <th>densityPercentSol</th>\n",
       "      <th>pdbxDetails</th>\n",
       "      <th>phValue</th>\n",
       "      <th>sequence</th>\n",
       "    </tr>\n",
       "    <tr>\n",
       "      <th>structureId</th>\n",
       "      <th></th>\n",
       "      <th></th>\n",
       "      <th></th>\n",
       "      <th></th>\n",
       "      <th></th>\n",
       "      <th></th>\n",
       "      <th></th>\n",
       "      <th></th>\n",
       "      <th></th>\n",
       "      <th></th>\n",
       "    </tr>\n",
       "  </thead>\n",
       "  <tbody>\n",
       "    <tr>\n",
       "      <th>1A72</th>\n",
       "      <td>1.0</td>\n",
       "      <td>4.0</td>\n",
       "      <td>2.6</td>\n",
       "      <td>40658.50</td>\n",
       "      <td>119.0</td>\n",
       "      <td>277.0</td>\n",
       "      <td>46.82</td>\n",
       "      <td>18151.0</td>\n",
       "      <td>8.0</td>\n",
       "      <td>19585.0</td>\n",
       "    </tr>\n",
       "    <tr>\n",
       "      <th>1AR4</th>\n",
       "      <td>1.0</td>\n",
       "      <td>4.0</td>\n",
       "      <td>1.9</td>\n",
       "      <td>45428.53</td>\n",
       "      <td>191.0</td>\n",
       "      <td>277.0</td>\n",
       "      <td>32.00</td>\n",
       "      <td>22390.0</td>\n",
       "      <td>6.0</td>\n",
       "      <td>1616.0</td>\n",
       "    </tr>\n",
       "    <tr>\n",
       "      <th>1AR4</th>\n",
       "      <td>1.0</td>\n",
       "      <td>4.0</td>\n",
       "      <td>1.9</td>\n",
       "      <td>45428.53</td>\n",
       "      <td>191.0</td>\n",
       "      <td>277.0</td>\n",
       "      <td>32.00</td>\n",
       "      <td>22390.0</td>\n",
       "      <td>6.0</td>\n",
       "      <td>1616.0</td>\n",
       "    </tr>\n",
       "    <tr>\n",
       "      <th>1AR5</th>\n",
       "      <td>1.0</td>\n",
       "      <td>4.0</td>\n",
       "      <td>1.6</td>\n",
       "      <td>45430.34</td>\n",
       "      <td>191.0</td>\n",
       "      <td>277.0</td>\n",
       "      <td>32.20</td>\n",
       "      <td>22394.0</td>\n",
       "      <td>6.0</td>\n",
       "      <td>1616.0</td>\n",
       "    </tr>\n",
       "    <tr>\n",
       "      <th>1AR5</th>\n",
       "      <td>1.0</td>\n",
       "      <td>4.0</td>\n",
       "      <td>1.6</td>\n",
       "      <td>45430.34</td>\n",
       "      <td>191.0</td>\n",
       "      <td>277.0</td>\n",
       "      <td>32.20</td>\n",
       "      <td>22394.0</td>\n",
       "      <td>6.0</td>\n",
       "      <td>1616.0</td>\n",
       "    </tr>\n",
       "  </tbody>\n",
       "</table>\n",
       "</div>"
      ],
      "text/plain": [
       "             classification  experimentalTechnique  resolution  \\\n",
       "structureId                                                      \n",
       "1A72                    1.0                    4.0         2.6   \n",
       "1AR4                    1.0                    4.0         1.9   \n",
       "1AR4                    1.0                    4.0         1.9   \n",
       "1AR5                    1.0                    4.0         1.6   \n",
       "1AR5                    1.0                    4.0         1.6   \n",
       "\n",
       "             structureMolecularWeight  crystallizationMethod  \\\n",
       "structureId                                                    \n",
       "1A72                         40658.50                  119.0   \n",
       "1AR4                         45428.53                  191.0   \n",
       "1AR4                         45428.53                  191.0   \n",
       "1AR5                         45430.34                  191.0   \n",
       "1AR5                         45430.34                  191.0   \n",
       "\n",
       "             crystallizationTempK  densityPercentSol  pdbxDetails  phValue  \\\n",
       "structureId                                                                  \n",
       "1A72                        277.0              46.82      18151.0      8.0   \n",
       "1AR4                        277.0              32.00      22390.0      6.0   \n",
       "1AR4                        277.0              32.00      22390.0      6.0   \n",
       "1AR5                        277.0              32.20      22394.0      6.0   \n",
       "1AR5                        277.0              32.20      22394.0      6.0   \n",
       "\n",
       "             sequence  \n",
       "structureId            \n",
       "1A72          19585.0  \n",
       "1AR4           1616.0  \n",
       "1AR4           1616.0  \n",
       "1AR5           1616.0  \n",
       "1AR5           1616.0  "
      ]
     },
     "execution_count": 17,
     "metadata": {},
     "output_type": "execute_result"
    }
   ],
   "source": [
    "class_data.dtypes \n",
    "# Converting all the categorical features to numerical\n",
    "cat_transformer = OrdinalEncoder()\n",
    "cat_features = ['crystallizationMethod', 'experimentalTechnique','pdbxDetails','sequence', 'classification']\n",
    "transformed_cat = cat_transformer.fit_transform(class_data[cat_features])\n",
    "class_data[cat_features] = transformed_cat\n",
    "class_data.head(5)"
   ]
  },
  {
   "cell_type": "code",
   "execution_count": 18,
   "id": "fecb117c",
   "metadata": {
    "execution": {
     "iopub.execute_input": "2022-07-02T13:25:36.498140Z",
     "iopub.status.busy": "2022-07-02T13:25:36.497168Z",
     "iopub.status.idle": "2022-07-02T13:25:37.145183Z",
     "shell.execute_reply": "2022-07-02T13:25:37.143669Z"
    },
    "papermill": {
     "duration": 0.670263,
     "end_time": "2022-07-02T13:25:37.147651",
     "exception": false,
     "start_time": "2022-07-02T13:25:36.477388",
     "status": "completed"
    },
    "tags": []
   },
   "outputs": [
    {
     "data": {
      "image/png": "[encoded data removed]",
      "text/plain": [
       "<Figure size 576x432 with 1 Axes>"
      ]
     },
     "metadata": {
      "needs_background": "light"
     },
     "output_type": "display_data"
    }
   ],
   "source": [
    "# Boxplot for visualizing the resolution feature\n",
    "plt.figure(figsize=(8,6))\n",
    "sns.boxplot(x=class_data[\"classification\"], y=class_data[\"resolution\"], data=pd.melt(class_data))\n",
    "plt.ylabel(\"Protein Resolution (in Angstrom)\", fontsize = 12)\n",
    "plt.xticks([0, 1, 2, 3], [\"Hydrolase\",\"Oxidoreductase\", \"Ribosome\", \"Transferase\"], rotation = 45)\n",
    "plt.show()\n"
   ]
  },
  {
   "cell_type": "code",
   "execution_count": 19,
   "id": "0166e6d9",
   "metadata": {
    "execution": {
     "iopub.execute_input": "2022-07-02T13:25:37.493129Z",
     "iopub.status.busy": "2022-07-02T13:25:37.491932Z",
     "iopub.status.idle": "2022-07-02T13:25:38.384280Z",
     "shell.execute_reply": "2022-07-02T13:25:38.382835Z"
    },
    "papermill": {
     "duration": 0.917636,
     "end_time": "2022-07-02T13:25:38.386836",
     "exception": false,
     "start_time": "2022-07-02T13:25:37.469200",
     "status": "completed"
    },
    "tags": []
   },
   "outputs": [
    {
     "data": {
      "image/png": "[encoded data removed]",
      "text/plain": [
       "<Figure size 576x432 with 1 Axes>"
      ]
     },
     "metadata": {
      "needs_background": "light"
     },
     "output_type": "display_data"
    }
   ],
   "source": [
    "# Comparing the molecular weights of the top 4 protein families using a boxplot\n",
    "plt.figure(figsize=(8,6))\n",
    "ax = sns.boxplot(x=class_data[\"classification\"], y=class_data[\"structureMolecularWeight\"], data=pd.melt(class_data))\n",
    "ax.set_yscale('log')\n",
    "plt.ylabel(\"Molecular Weight (in Daltons)\", fontsize = 12)\n",
    "plt.xticks([0, 1, 2, 3], [\"Hydrolase\",\"Oxidoreductase\", \"Ribosome\", \"Transferase\"], rotation = 45)\n",
    "plt.show()"
   ]
  },
  {
   "cell_type": "markdown",
   "id": "412bb290",
   "metadata": {
    "papermill": {
     "duration": 0.019672,
     "end_time": "2022-07-02T13:25:38.426296",
     "exception": false,
     "start_time": "2022-07-02T13:25:38.406624",
     "status": "completed"
    },
    "tags": []
   },
   "source": [
    "> Obseravation\n",
    "\n",
    " Higher molecular weight and more readily identifiable ribosomes"
   ]
  },
  {
   "cell_type": "markdown",
   "id": "bfeb2252",
   "metadata": {
    "papermill": {
     "duration": 0.019576,
     "end_time": "2022-07-02T13:25:38.465873",
     "exception": false,
     "start_time": "2022-07-02T13:25:38.446297",
     "status": "completed"
    },
    "tags": []
   },
   "source": [
    "# Classification"
   ]
  },
  {
   "cell_type": "code",
   "execution_count": 20,
   "id": "eec21355",
   "metadata": {
    "execution": {
     "iopub.execute_input": "2022-07-02T13:25:38.546799Z",
     "iopub.status.busy": "2022-07-02T13:25:38.546394Z",
     "iopub.status.idle": "2022-07-02T13:25:38.577879Z",
     "shell.execute_reply": "2022-07-02T13:25:38.576599Z"
    },
    "papermill": {
     "duration": 0.055011,
     "end_time": "2022-07-02T13:25:38.580340",
     "exception": false,
     "start_time": "2022-07-02T13:25:38.525329",
     "status": "completed"
    },
    "tags": []
   },
   "outputs": [
    {
     "name": "stdout",
     "output_type": "stream",
     "text": [
      "Index(['structureMolecularWeight', 'crystallizationMethod',\n",
      "       'crystallizationTempK', 'phValue', 'sequence'],\n",
      "      dtype='object')\n"
     ]
    }
   ],
   "source": [
    "from sklearn import preprocessing\n",
    "from sklearn.metrics import classification_report\n",
    "min_max_scaler = preprocessing.MinMaxScaler()\n",
    "X = class_data.drop(['classification', 'experimentalTechnique','pdbxDetails', \"resolution\", \"densityPercentSol\"],axis=1) \n",
    "y = class_data.classification\n",
    "X_minmax = min_max_scaler.fit_transform(X)\n",
    "X_train, X_test, y_train, y_test = train_test_split(X_minmax, y, test_size=0.2, random_state=42)\n",
    "print(X.columns)"
   ]
  },
  {
   "cell_type": "code",
   "execution_count": 21,
   "id": "4d947437",
   "metadata": {
    "execution": {
     "iopub.execute_input": "2022-07-02T13:25:41.294789Z",
     "iopub.status.busy": "2022-07-02T13:25:41.293926Z",
     "iopub.status.idle": "2022-07-02T13:28:01.477309Z",
     "shell.execute_reply": "2022-07-02T13:28:01.475957Z"
    },
    "papermill": {
     "duration": 140.228252,
     "end_time": "2022-07-02T13:28:01.500290",
     "exception": false,
     "start_time": "2022-07-02T13:25:41.272038",
     "status": "completed"
    },
    "tags": []
   },
   "outputs": [
    {
     "name": "stdout",
     "output_type": "stream",
     "text": [
      "0.941452360013653\n"
     ]
    }
   ],
   "source": [
    "knn = KNeighborsClassifier()\n",
    "params = {'n_neighbors': np.arange(1,25,1) }\n",
    "clf = GridSearchCV(knn, params, cv=10)\n",
    "clf.fit(X_train,y_train)\n",
    "print(clf.best_score_)"
   ]
  },
  {
   "cell_type": "code",
   "execution_count": 22,
   "id": "a86f1f14",
   "metadata": {
    "execution": {
     "iopub.execute_input": "2022-07-02T13:28:01.543326Z",
     "iopub.status.busy": "2022-07-02T13:28:01.542932Z",
     "iopub.status.idle": "2022-07-02T13:28:02.419803Z",
     "shell.execute_reply": "2022-07-02T13:28:02.418391Z"
    },
    "papermill": {
     "duration": 0.902096,
     "end_time": "2022-07-02T13:28:02.423036",
     "exception": false,
     "start_time": "2022-07-02T13:28:01.520940",
     "status": "completed"
    },
    "tags": []
   },
   "outputs": [
    {
     "name": "stdout",
     "output_type": "stream",
     "text": [
      "The best k parameter is : {'n_neighbors': 1}\n",
      "Accuracy: 0.9483690214128477\n"
     ]
    }
   ],
   "source": [
    "# Find the best k parameter\n",
    "print(\"The best k parameter is : \" + str(clf.best_params_))\n",
    "print(\"Accuracy: \" + str(clf.best_estimator_.score(X_test, y_test)))"
   ]
  },
  {
   "cell_type": "code",
   "execution_count": 23,
   "id": "46759454",
   "metadata": {
    "execution": {
     "iopub.execute_input": "2022-07-02T13:28:02.468873Z",
     "iopub.status.busy": "2022-07-02T13:28:02.467996Z",
     "iopub.status.idle": "2022-07-02T13:28:34.829827Z",
     "shell.execute_reply": "2022-07-02T13:28:34.828943Z"
    },
    "papermill": {
     "duration": 32.38695,
     "end_time": "2022-07-02T13:28:34.832116",
     "exception": false,
     "start_time": "2022-07-02T13:28:02.445166",
     "status": "completed"
    },
    "tags": []
   },
   "outputs": [
    {
     "data": {
      "text/plain": [
       "Text(0, 0.5, 'Mean Error')"
      ]
     },
     "execution_count": 23,
     "metadata": {},
     "output_type": "execute_result"
    },
    {
     "data": {
      "image/png": "[encoded data removed]",
      "text/plain": [
       "<Figure size 720x576 with 1 Axes>"
      ]
     },
     "metadata": {
      "needs_background": "light"
     },
     "output_type": "display_data"
    }
   ],
   "source": [
    "# Calculating error for K values between 1 and 25\n",
    "error = []\n",
    "for i in range(1, 25):\n",
    "    knn = KNeighborsClassifier(n_neighbors=i)\n",
    "    knn.fit(X_train, y_train)\n",
    "    pred_i = knn.predict(X_test)\n",
    "    error.append(np.mean(pred_i != y_test))\n",
    "plt.figure(figsize=(10,8))\n",
    "plt.plot(range(1, 25), error, color='red', linestyle='dashed', marker='o',\n",
    "         markerfacecolor='blue', markersize=10)\n",
    "plt.title('ERROR RATE K VALUE',fontsize = 14 )\n",
    "plt.xlabel('K Value', fontsize = 14 )\n",
    "plt.ylabel('Mean Error', fontsize = 14 )\n"
   ]
  },
  {
   "cell_type": "code",
   "execution_count": 24,
   "id": "6bd6bd02",
   "metadata": {
    "execution": {
     "iopub.execute_input": "2022-07-02T13:28:34.878403Z",
     "iopub.status.busy": "2022-07-02T13:28:34.877830Z",
     "iopub.status.idle": "2022-07-02T13:28:37.075592Z",
     "shell.execute_reply": "2022-07-02T13:28:37.073995Z"
    },
    "papermill": {
     "duration": 2.224482,
     "end_time": "2022-07-02T13:28:37.078618",
     "exception": false,
     "start_time": "2022-07-02T13:28:34.854136",
     "status": "completed"
    },
    "tags": []
   },
   "outputs": [
    {
     "data": {
      "image/png": "[encoded data removed]",
      "text/plain": [
       "<Figure size 432x288 with 2 Axes>"
      ]
     },
     "metadata": {
      "needs_background": "light"
     },
     "output_type": "display_data"
    },
    {
     "name": "stdout",
     "output_type": "stream",
     "text": [
      "                precision    recall  f1-score   support\n",
      "\n",
      "     Hydrolase       0.93      0.93      0.93      5867\n",
      "Oxidoreductase       0.93      0.94      0.94      4443\n",
      "      Ribosome       1.00      1.00      1.00      4759\n",
      "   Transferase       0.93      0.92      0.93      4919\n",
      "\n",
      "      accuracy                           0.95     19988\n",
      "     macro avg       0.95      0.95      0.95     19988\n",
      "  weighted avg       0.95      0.95      0.95     19988\n",
      "\n"
     ]
    }
   ],
   "source": [
    "# Based on the above graph, K=1 gives us the lowest mean error (5 features finally!)\n",
    "knn1 = KNeighborsClassifier(n_neighbors=1)\n",
    "knn1.fit(X_train, y_train)\n",
    "plot_confusion_matrix(knn1,X_test,y_test,cmap=plt.cm.Blues,values_format = '.5g', display_labels = [\"Hydrolase\",\"Oxidoreductase\", \"Ribosome\", \"Transferase\"])\n",
    "plt.xticks(rotation=45)\n",
    "plt.yticks(rotation=45)\n",
    "plt.show()\n",
    "\n",
    "\n",
    "# Assessing the initial knn model's performance\n",
    "y_pred = knn1.predict(X_test)\n",
    "print(classification_report(y_test, y_pred, target_names=[\"Hydrolase\",\"Oxidoreductase\", \"Ribosome\", \"Transferase\"]))\n"
   ]
  },
  {
   "cell_type": "markdown",
   "id": "2b3b7c2f",
   "metadata": {},
   "source": [
    "> Obseravation:\n",
    "\n",
    "\n",
    "The average structure molecular weight of the Ribosome proteins is ~20x higher than that of the other families. Additionally, Ribosome is the only class of proteins that does not have any outliers in the molecular weight column. Therefore, it is easier for the model to correctly classify proteins belonging to the Ribosome family."
   ]
  },
  {
   "cell_type": "code",
   "execution_count": 25,
   "id": "eb8c7df4",
   "metadata": {},
   "outputs": [
    {
     "name": "stdout",
     "output_type": "stream",
     "text": [
      "                precision    recall  f1-score   support\n",
      "\n",
      "     Hydrolase       0.93      0.95      0.94      5867\n",
      "Oxidoreductase       0.96      0.95      0.95      4443\n",
      "      Ribosome       1.00      1.00      1.00      4759\n",
      "   Transferase       0.94      0.93      0.94      4919\n",
      "\n",
      "      accuracy                           0.96     19988\n",
      "     macro avg       0.96      0.96      0.96     19988\n",
      "  weighted avg       0.96      0.96      0.96     19988\n",
      "\n"
     ]
    },
    {
     "data": {
      "text/plain": [
       "<Figure size 720x576 with 0 Axes>"
      ]
     },
     "metadata": {},
     "output_type": "display_data"
    },
    {
     "data": {
      "image/png": "[encoded data removed]",
      "text/plain": [
       "<Figure size 432x288 with 2 Axes>"
      ]
     },
     "metadata": {
      "needs_background": "light"
     },
     "output_type": "display_data"
    }
   ],
   "source": [
    "rf = RandomForestClassifier(n_estimators=60, random_state=42)\n",
    "rf.fit(X_train, y_train)\n",
    "y_pred = rf.predict(X_test)\n",
    "plt.figure(figsize=(10,8))\n",
    "plot_confusion_matrix(rf,X_test,y_test,cmap=plt.cm.Blues, values_format = '.5g', display_labels = [\"Hydrolase\",\"Oxidoreductase\", \"Ribosome\", \"Transferase\"])\n",
    "plt.xticks(rotation=45)\n",
    "plt.yticks(rotation=45)\n",
    "print(classification_report(y_test, y_pred, target_names=[\"Hydrolase\",\"Oxidoreductase\", \"Ribosome\", \"Transferase\"]))"
   ]
  },
  {
   "cell_type": "code",
   "execution_count": 26,
   "id": "b6b7b5c8",
   "metadata": {},
   "outputs": [
    {
     "name": "stdout",
     "output_type": "stream",
     "text": [
      "                precision    recall  f1-score   support\n",
      "\n",
      "     Hydrolase       0.94      0.94      0.94      5867\n",
      "Oxidoreductase       0.94      0.95      0.95      4443\n",
      "      Ribosome       1.00      1.00      1.00      4759\n",
      "   Transferase       0.93      0.93      0.93      4919\n",
      "\n",
      "      accuracy                           0.95     19988\n",
      "     macro avg       0.95      0.95      0.95     19988\n",
      "  weighted avg       0.95      0.95      0.95     19988\n",
      "\n"
     ]
    },
    {
     "data": {
      "text/plain": [
       "<Figure size 720x576 with 0 Axes>"
      ]
     },
     "metadata": {},
     "output_type": "display_data"
    },
    {
     "data": {
      "image/png": "[encoded data removed]",
      "text/plain": [
       "<Figure size 432x288 with 2 Axes>"
      ]
     },
     "metadata": {
      "needs_background": "light"
     },
     "output_type": "display_data"
    }
   ],
   "source": [
    "from sklearn import tree\n",
    "clf = tree.DecisionTreeClassifier()\n",
    "clf.fit(X_train, y_train)\n",
    "y_pred = clf.predict(X_test)\n",
    "plt.figure(figsize=(10,8))\n",
    "plot_confusion_matrix(clf,X_test,y_test,cmap=plt.cm.Blues, values_format = '.5g', display_labels = [\"Hydrolase\",\"Oxidoreductase\", \"Ribosome\", \"Transferase\"])\n",
    "plt.xticks(rotation=45)\n",
    "plt.yticks(rotation=45)\n",
    "print(classification_report(y_test, y_pred, target_names=[\"Hydrolase\",\"Oxidoreductase\", \"Ribosome\", \"Transferase\"]))"
   ]
  },
  {
   "cell_type": "code",
   "execution_count": 27,
   "id": "1238e7ec",
   "metadata": {},
   "outputs": [
    {
     "name": "stdout",
     "output_type": "stream",
     "text": [
      "                precision    recall  f1-score   support\n",
      "\n",
      "     Hydrolase       0.38      0.86      0.53      5867\n",
      "Oxidoreductase       0.32      0.06      0.10      4443\n",
      "      Ribosome       0.92      0.90      0.91      4759\n",
      "   Transferase       0.13      0.03      0.05      4919\n",
      "\n",
      "      accuracy                           0.49     19988\n",
      "     macro avg       0.44      0.46      0.40     19988\n",
      "  weighted avg       0.44      0.49      0.41     19988\n",
      "\n"
     ]
    },
    {
     "data": {
      "text/plain": [
       "<Figure size 720x576 with 0 Axes>"
      ]
     },
     "metadata": {},
     "output_type": "display_data"
    },
    {
     "data": {
      "image/png": "[encoded data removed]",
      "text/plain": [
       "<Figure size 432x288 with 2 Axes>"
      ]
     },
     "metadata": {
      "needs_background": "light"
     },
     "output_type": "display_data"
    }
   ],
   "source": [
    "from sklearn.naive_bayes import GaussianNB\n",
    "gnb = GaussianNB()\n",
    "gnb.fit(X_train, y_train)\n",
    "y_pred = gnb.predict(X_test)\n",
    "plt.figure(figsize=(10,8))\n",
    "plot_confusion_matrix(gnb,X_test,y_test,cmap=plt.cm.Blues, values_format = '.5g', display_labels = [\"Hydrolase\",\"Oxidoreductase\", \"Ribosome\", \"Transferase\"])\n",
    "plt.xticks(rotation=45)\n",
    "plt.yticks(rotation=45)\n",
    "print(classification_report(y_test, y_pred, target_names=[\"Hydrolase\",\"Oxidoreductase\", \"Ribosome\", \"Transferase\"]))"
   ]
  },
  {
   "cell_type": "code",
   "execution_count": 28,
   "id": "a2f49233",
   "metadata": {},
   "outputs": [
    {
     "name": "stdout",
     "output_type": "stream",
     "text": [
      "                precision    recall  f1-score   support\n",
      "\n",
      "     Hydrolase       0.39      0.95      0.55      5867\n",
      "Oxidoreductase       0.52      0.04      0.07      4443\n",
      "      Ribosome       0.93      0.98      0.95      4759\n",
      "   Transferase       0.30      0.01      0.02      4919\n",
      "\n",
      "      accuracy                           0.52     19988\n",
      "     macro avg       0.53      0.50      0.40     19988\n",
      "  weighted avg       0.52      0.52      0.41     19988\n",
      "\n"
     ]
    },
    {
     "data": {
      "text/plain": [
       "<Figure size 720x576 with 0 Axes>"
      ]
     },
     "metadata": {},
     "output_type": "display_data"
    },
    {
     "data": {
      "image/png": "[encoded data removed]",
      "text/plain": [
       "<Figure size 432x288 with 2 Axes>"
      ]
     },
     "metadata": {
      "needs_background": "light"
     },
     "output_type": "display_data"
    }
   ],
   "source": [
    "from sklearn.linear_model import LogisticRegression\n",
    "clf = LogisticRegression(random_state=42,C=1,solver='liblinear')\n",
    "clf.fit(X_train, y_train)\n",
    "y_pred = clf.predict(X_test)\n",
    "plt.figure(figsize=(10,8))\n",
    "plot_confusion_matrix(clf,X_test,y_test,cmap=plt.cm.Blues, values_format = '.5g', display_labels = [\"Hydrolase\",\"Oxidoreductase\", \"Ribosome\", \"Transferase\"])\n",
    "plt.xticks(rotation=45)\n",
    "plt.yticks(rotation=45)\n",
    "print(classification_report(y_test, y_pred, target_names=[\"Hydrolase\",\"Oxidoreductase\", \"Ribosome\", \"Transferase\"]))"
   ]
  },
  {
   "cell_type": "code",
   "execution_count": null,
   "id": "f295531e",
   "metadata": {},
   "outputs": [],
   "source": []
  }
 ],
 "metadata": {
  "kernelspec": {
   "display_name": "Python 3",
   "language": "python",
   "name": "python3"
  },
  "language_info": {
   "codemirror_mode": {
    "name": "ipython",
    "version": 3
   },
   "file_extension": ".py",
   "mimetype": "text/x-python",
   "name": "python",
   "nbconvert_exporter": "python",
   "pygments_lexer": "ipython3",
   "version": "3.9.12"
  },
  "papermill": {
   "default_parameters": {},
   "duration": 270.25369,
   "end_time": "2022-07-02T13:28:38.676234",
   "environment_variables": {},
   "exception": null,
   "input_path": "__notebook__.ipynb",
   "output_path": "__notebook__.ipynb",
   "parameters": {},
   "start_time": "2022-07-02T13:24:08.422544",
   "version": "2.3.4"
  }
 },
 "nbformat": 4,
 "nbformat_minor": 5
}
